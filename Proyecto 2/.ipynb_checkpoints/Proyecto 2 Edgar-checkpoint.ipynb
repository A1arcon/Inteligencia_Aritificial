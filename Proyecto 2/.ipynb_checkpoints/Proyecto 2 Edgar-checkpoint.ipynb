{
 "cells": [
  {
   "cell_type": "markdown",
   "metadata": {},
   "source": [
    "# Proyecto 2 - Coronavirus"
   ]
  },
  {
   "cell_type": "markdown",
   "metadata": {},
   "source": [
    "Este proyecto consiste en estimar un modelo SIR con datos de un país sobre el COVID-19."
   ]
  },
  {
   "cell_type": "code",
   "execution_count": 2,
   "metadata": {},
   "outputs": [],
   "source": [
    "# Carga de librerías\n",
    "import pandas as pd\n",
    "import numpy as np\n",
    "from scipy import integrate\n",
    "from sklearn.metrics import mean_squared_error, mean_squared_log_error, mean_absolute_error, median_absolute_error\n",
    "from scipy.integrate import odeint\n",
    "from scipy.optimize import differential_evolution, minimize\n",
    "import matplotlib.pyplot as plt\n",
    "%matplotlib inline"
   ]
  },
  {
   "cell_type": "code",
   "execution_count": 3,
   "metadata": {},
   "outputs": [],
   "source": [
    "# Toolbox especial\n",
    "import PDEparams as pde\n",
    "# https://github.com/systemsmedicine/PDE_params"
   ]
  },
  {
   "cell_type": "markdown",
   "metadata": {},
   "source": [
    "### Carga de Datos"
   ]
  },
  {
   "cell_type": "markdown",
   "metadata": {},
   "source": [
    "De acuerdo a Google, la población de Rusia es\n",
    "\n",
    "$$\n",
    "N = 144.5 \\text{ Millones}\n",
    "$$"
   ]
  },
  {
   "cell_type": "code",
   "execution_count": 4,
   "metadata": {},
   "outputs": [
    {
     "data": {
      "text/html": [
       "<div>\n",
       "<style scoped>\n",
       "    .dataframe tbody tr th:only-of-type {\n",
       "        vertical-align: middle;\n",
       "    }\n",
       "\n",
       "    .dataframe tbody tr th {\n",
       "        vertical-align: top;\n",
       "    }\n",
       "\n",
       "    .dataframe thead th {\n",
       "        text-align: right;\n",
       "    }\n",
       "</style>\n",
       "<table border=\"1\" class=\"dataframe\">\n",
       "  <thead>\n",
       "    <tr style=\"text-align: right;\">\n",
       "      <th></th>\n",
       "      <th>Fecha</th>\n",
       "      <th>Tiempo</th>\n",
       "      <th>Infectados_Acumulados</th>\n",
       "      <th>Recuperados_Acumulados</th>\n",
       "      <th>Muertes_Acumulados</th>\n",
       "      <th>Infectados</th>\n",
       "      <th>Recuperados</th>\n",
       "      <th>Muertos</th>\n",
       "    </tr>\n",
       "  </thead>\n",
       "  <tbody>\n",
       "    <tr>\n",
       "      <th>0</th>\n",
       "      <td>1/22/20</td>\n",
       "      <td>1</td>\n",
       "      <td>0</td>\n",
       "      <td>0</td>\n",
       "      <td>0</td>\n",
       "      <td>0</td>\n",
       "      <td>0</td>\n",
       "      <td>0</td>\n",
       "    </tr>\n",
       "    <tr>\n",
       "      <th>1</th>\n",
       "      <td>1/23/20</td>\n",
       "      <td>2</td>\n",
       "      <td>0</td>\n",
       "      <td>0</td>\n",
       "      <td>0</td>\n",
       "      <td>0</td>\n",
       "      <td>0</td>\n",
       "      <td>0</td>\n",
       "    </tr>\n",
       "    <tr>\n",
       "      <th>2</th>\n",
       "      <td>1/24/20</td>\n",
       "      <td>3</td>\n",
       "      <td>0</td>\n",
       "      <td>0</td>\n",
       "      <td>0</td>\n",
       "      <td>0</td>\n",
       "      <td>0</td>\n",
       "      <td>0</td>\n",
       "    </tr>\n",
       "    <tr>\n",
       "      <th>3</th>\n",
       "      <td>1/25/20</td>\n",
       "      <td>4</td>\n",
       "      <td>0</td>\n",
       "      <td>0</td>\n",
       "      <td>0</td>\n",
       "      <td>0</td>\n",
       "      <td>0</td>\n",
       "      <td>0</td>\n",
       "    </tr>\n",
       "    <tr>\n",
       "      <th>4</th>\n",
       "      <td>1/26/20</td>\n",
       "      <td>5</td>\n",
       "      <td>0</td>\n",
       "      <td>0</td>\n",
       "      <td>0</td>\n",
       "      <td>0</td>\n",
       "      <td>0</td>\n",
       "      <td>0</td>\n",
       "    </tr>\n",
       "  </tbody>\n",
       "</table>\n",
       "</div>"
      ],
      "text/plain": [
       "     Fecha  Tiempo  Infectados_Acumulados  Recuperados_Acumulados  \\\n",
       "0  1/22/20       1                      0                       0   \n",
       "1  1/23/20       2                      0                       0   \n",
       "2  1/24/20       3                      0                       0   \n",
       "3  1/25/20       4                      0                       0   \n",
       "4  1/26/20       5                      0                       0   \n",
       "\n",
       "   Muertes_Acumulados  Infectados  Recuperados  Muertos  \n",
       "0                   0           0            0        0  \n",
       "1                   0           0            0        0  \n",
       "2                   0           0            0        0  \n",
       "3                   0           0            0        0  \n",
       "4                   0           0            0        0  "
      ]
     },
     "execution_count": 4,
     "metadata": {},
     "output_type": "execute_result"
    }
   ],
   "source": [
    "# Vamos a considerar la población mundial de Rusia\n",
    "N = 144500000\n",
    "# Estos son todos los datos con los que contamos\n",
    "data = pd.read_csv('Russia_COVID.csv')\n",
    "data.head()"
   ]
  },
  {
   "cell_type": "markdown",
   "metadata": {},
   "source": [
    "## Defininimos el modelo SIR\n",
    "\n",
    "$$\\begin{align}\n",
    "\\frac{\\mathrm{d} S}{\\mathrm{d} t} &= -\\beta\\, \\frac{SI}{N}\\\\\n",
    "\\frac{\\mathrm{d} I}{\\mathrm{d} t} &= \\beta\\, \\frac{SI}{N} - \\gamma\\,I\\\\\n",
    "\\frac{\\mathrm{d} R}{\\mathrm{d} t} &= \\gamma\\,I\n",
    "\\end{align}$$"
   ]
  },
  {
   "cell_type": "markdown",
   "metadata": {},
   "source": [
    "Suceptible -> Infectado -> Recuperado\n",
    "\n",
    "$$\n",
    "\\begin{align}\n",
    "\\beta &= \\text{Tasa de contacto } \\times \\text{Probabilidad de Transmisión}\\\\\n",
    "\\gamma &= \\text{Tasa de Recuperación}\n",
    "\\end{align}\n",
    "$$"
   ]
  },
  {
   "cell_type": "markdown",
   "metadata": {},
   "source": [
    "En particular, nosotros vamos a considerar:\n",
    "\n",
    "- $S :=$ Población suceptible.\n",
    "\n",
    "- $I :=$ Población Infectada.\n",
    "\n",
    "- $R :=$ Población Recuperada\n",
    "\n",
    "Nota: Este modelo asumirá que $R$ es la población que no que fue infectada pero ya no puede volver a infectar. Por efectos de cómo tenemos los datos, nosotros vamos a considerar que estos serán los muertos más los recuperados."
   ]
  },
  {
   "cell_type": "code",
   "execution_count": 5,
   "metadata": {},
   "outputs": [
    {
     "data": {
      "text/html": [
       "<div>\n",
       "<style scoped>\n",
       "    .dataframe tbody tr th:only-of-type {\n",
       "        vertical-align: middle;\n",
       "    }\n",
       "\n",
       "    .dataframe tbody tr th {\n",
       "        vertical-align: top;\n",
       "    }\n",
       "\n",
       "    .dataframe thead th {\n",
       "        text-align: right;\n",
       "    }\n",
       "</style>\n",
       "<table border=\"1\" class=\"dataframe\">\n",
       "  <thead>\n",
       "    <tr style=\"text-align: right;\">\n",
       "      <th></th>\n",
       "      <th>t</th>\n",
       "      <th>S</th>\n",
       "      <th>I</th>\n",
       "      <th>R</th>\n",
       "    </tr>\n",
       "  </thead>\n",
       "  <tbody>\n",
       "    <tr>\n",
       "      <th>count</th>\n",
       "      <td>321.000000</td>\n",
       "      <td>3.210000e+02</td>\n",
       "      <td>321.000000</td>\n",
       "      <td>321.000000</td>\n",
       "    </tr>\n",
       "    <tr>\n",
       "      <th>mean</th>\n",
       "      <td>161.000000</td>\n",
       "      <td>1.432630e+08</td>\n",
       "      <td>7685.236760</td>\n",
       "      <td>6176.059190</td>\n",
       "    </tr>\n",
       "    <tr>\n",
       "      <th>std</th>\n",
       "      <td>92.808944</td>\n",
       "      <td>1.205129e+06</td>\n",
       "      <td>7110.665979</td>\n",
       "      <td>6528.110415</td>\n",
       "    </tr>\n",
       "    <tr>\n",
       "      <th>min</th>\n",
       "      <td>1.000000</td>\n",
       "      <td>1.400505e+08</td>\n",
       "      <td>0.000000</td>\n",
       "      <td>0.000000</td>\n",
       "    </tr>\n",
       "    <tr>\n",
       "      <th>25%</th>\n",
       "      <td>81.000000</td>\n",
       "      <td>1.424955e+08</td>\n",
       "      <td>1786.000000</td>\n",
       "      <td>197.000000</td>\n",
       "    </tr>\n",
       "    <tr>\n",
       "      <th>50%</th>\n",
       "      <td>161.000000</td>\n",
       "      <td>1.434318e+08</td>\n",
       "      <td>6096.000000</td>\n",
       "      <td>5478.000000</td>\n",
       "    </tr>\n",
       "    <tr>\n",
       "      <th>75%</th>\n",
       "      <td>241.000000</td>\n",
       "      <td>1.444853e+08</td>\n",
       "      <td>9623.000000</td>\n",
       "      <td>8776.000000</td>\n",
       "    </tr>\n",
       "    <tr>\n",
       "      <th>max</th>\n",
       "      <td>321.000000</td>\n",
       "      <td>1.445000e+08</td>\n",
       "      <td>28701.000000</td>\n",
       "      <td>29627.000000</td>\n",
       "    </tr>\n",
       "  </tbody>\n",
       "</table>\n",
       "</div>"
      ],
      "text/plain": [
       "                t             S             I             R\n",
       "count  321.000000  3.210000e+02    321.000000    321.000000\n",
       "mean   161.000000  1.432630e+08   7685.236760   6176.059190\n",
       "std     92.808944  1.205129e+06   7110.665979   6528.110415\n",
       "min      1.000000  1.400505e+08      0.000000      0.000000\n",
       "25%     81.000000  1.424955e+08   1786.000000    197.000000\n",
       "50%    161.000000  1.434318e+08   6096.000000   5478.000000\n",
       "75%    241.000000  1.444853e+08   9623.000000   8776.000000\n",
       "max    321.000000  1.445000e+08  28701.000000  29627.000000"
      ]
     },
     "execution_count": 5,
     "metadata": {},
     "output_type": "execute_result"
    }
   ],
   "source": [
    "# En realidad nosotros vamos a ocupar lo siguiente\n",
    "datos = pd.DataFrame({\n",
    "            # Tiempo\n",
    "            't': data.Tiempo,\n",
    "            # Suceptibles\n",
    "            'S': N - np.cumsum(data.Infectados) -  (np.cumsum(data.Recuperados) + np.cumsum(data.Muertos)),\n",
    "            # Infectados\n",
    "            'I': data.Infectados,\n",
    "            # Recuperados (este modelo asume que los recuperados son las personas que ya no pueden contagiar)\n",
    "            'R': data.Muertos + data.Recuperados \n",
    "})\n",
    "datos.describe()"
   ]
  },
  {
   "cell_type": "code",
   "execution_count": 6,
   "metadata": {},
   "outputs": [
    {
     "data": {
      "text/plain": [
       "<matplotlib.legend.Legend at 0x299c24c7c40>"
      ]
     },
     "execution_count": 6,
     "metadata": {},
     "output_type": "execute_result"
    },
    {
     "data": {
      "image/png": "[encoded data removed]",
      "text/plain": [
       "<Figure size 864x576 with 1 Axes>"
      ]
     },
     "metadata": {
      "needs_background": "light"
     },
     "output_type": "display_data"
    }
   ],
   "source": [
    "plt.figure(figsize=(12, 8))\n",
    "plt.title(\"Gráfico de datos\")\n",
    "plt.plot(datos.t, datos.S, '-o', label=\"Suceptibles\")\n",
    "plt.ylabel(\"Total de Individuos\")\n",
    "plt.xlabel(\"Días reportados\")\n",
    "plt.legend()"
   ]
  },
  {
   "cell_type": "code",
   "execution_count": 7,
   "metadata": {},
   "outputs": [
    {
     "data": {
      "text/plain": [
       "<matplotlib.legend.Legend at 0x299c2e1b280>"
      ]
     },
     "execution_count": 7,
     "metadata": {},
     "output_type": "execute_result"
    },
    {
     "data": {
      "image/png": "[encoded data removed]",
      "text/plain": [
       "<Figure size 864x576 with 1 Axes>"
      ]
     },
     "metadata": {
      "needs_background": "light"
     },
     "output_type": "display_data"
    }
   ],
   "source": [
    "plt.figure(figsize=(12, 8))\n",
    "plt.title(\"Gráfico de datos\")\n",
    "plt.plot(datos.t, datos.I, '-o', label=\"Infectados\")\n",
    "plt.plot(datos.t, datos.R, '-o', label=\"Recuperados\")\n",
    "plt.yscale('log')\n",
    "plt.ylabel(\"Total de Individuos\")\n",
    "plt.xlabel(\"Días reportados\")\n",
    "plt.legend()"
   ]
  },
  {
   "cell_type": "markdown",
   "metadata": {},
   "source": [
    "Definimos el sistema de ecuaciones diferenciales a resolver"
   ]
  },
  {
   "cell_type": "code",
   "execution_count": 8,
   "metadata": {},
   "outputs": [],
   "source": [
    "def sistema_SIR(z, t, beta, gamma):\n",
    "    \n",
    "    S, I, R = z\n",
    "    \n",
    "    # dS/dt\n",
    "    dSdt = - beta * S * I / N \n",
    "    # dI/dt\n",
    "    dIdt = beta * S * I / N - gamma * I\n",
    "    # dR/dt\n",
    "    dRdt = gamma * I\n",
    "\n",
    "    \n",
    "    return [dSdt,dIdt,dRdt]"
   ]
  },
  {
   "cell_type": "markdown",
   "metadata": {},
   "source": [
    "Vamos a definir los valores iniciales de nuestros datos. Para esto, consideramos un escenario donde al principio teníamos un infectado, ningún recuperado y una población suceptible de $N-1$."
   ]
  },
  {
   "cell_type": "code",
   "execution_count": 9,
   "metadata": {},
   "outputs": [],
   "source": [
    "# Suceptible inicial\n",
    "def S0():\n",
    "    return N-1\n",
    "# Infectado inicial\n",
    "def I0():\n",
    "    return 1\n",
    "# Recuperado inicial\n",
    "def R0():\n",
    "    return 0"
   ]
  },
  {
   "cell_type": "markdown",
   "metadata": {},
   "source": [
    "Con base en todo lo anterior, ejectuamos nuestro modelo"
   ]
  },
  {
   "cell_type": "code",
   "execution_count": 10,
   "metadata": {},
   "outputs": [],
   "source": [
    "modelo_SIR = pde.PDEmodel(datos, sistema_SIR, [S0,I0,R0], bounds=[(0, 10), (0,10)], \n",
    "                        param_names=[r'$\\beta$', r'$\\gamma$'], nvars=3, ndims=0, nreplicates=1, obsidx=None, outfunc=None)"
   ]
  },
  {
   "cell_type": "code",
   "execution_count": 11,
   "metadata": {
    "scrolled": true
   },
   "outputs": [
    {
     "data": {
      "text/plain": [
       "array([144499999,         1,         0])"
      ]
     },
     "execution_count": 11,
     "metadata": {},
     "output_type": "execute_result"
    }
   ],
   "source": [
    "# Mostramos la condición Inicial\n",
    "modelo_SIR.initial_condition"
   ]
  },
  {
   "cell_type": "markdown",
   "metadata": {},
   "source": [
    "##### Encontrando los mejores parámetros"
   ]
  },
  {
   "cell_type": "code",
   "execution_count": 12,
   "metadata": {
    "scrolled": true
   },
   "outputs": [
    {
     "name": "stdout",
     "output_type": "stream",
     "text": [
      "    $\\beta$  $\\gamma$\n",
      "0  9.072614  9.026986\n",
      "Wall time: 2.03 s\n"
     ]
    }
   ],
   "source": [
    "%%time\n",
    "modelo_SIR.fit()"
   ]
  },
  {
   "cell_type": "code",
   "execution_count": 13,
   "metadata": {},
   "outputs": [
    {
     "data": {
      "text/html": [
       "<div>\n",
       "<style scoped>\n",
       "    .dataframe tbody tr th:only-of-type {\n",
       "        vertical-align: middle;\n",
       "    }\n",
       "\n",
       "    .dataframe tbody tr th {\n",
       "        vertical-align: top;\n",
       "    }\n",
       "\n",
       "    .dataframe thead th {\n",
       "        text-align: right;\n",
       "    }\n",
       "</style>\n",
       "<table border=\"1\" class=\"dataframe\">\n",
       "  <thead>\n",
       "    <tr style=\"text-align: right;\">\n",
       "      <th></th>\n",
       "      <th>$\\beta$</th>\n",
       "      <th>$\\gamma$</th>\n",
       "    </tr>\n",
       "  </thead>\n",
       "  <tbody>\n",
       "    <tr>\n",
       "      <th>0</th>\n",
       "      <td>9.072614</td>\n",
       "      <td>9.026986</td>\n",
       "    </tr>\n",
       "  </tbody>\n",
       "</table>\n",
       "</div>"
      ],
      "text/plain": [
       "    $\\beta$  $\\gamma$\n",
       "0  9.072614  9.026986"
      ]
     },
     "execution_count": 13,
     "metadata": {},
     "output_type": "execute_result"
    }
   ],
   "source": [
    "modelo_SIR.best_params"
   ]
  },
  {
   "cell_type": "code",
   "execution_count": 14,
   "metadata": {},
   "outputs": [
    {
     "data": {
      "text/plain": [
       "522504933232.9427"
      ]
     },
     "execution_count": 14,
     "metadata": {},
     "output_type": "execute_result"
    }
   ],
   "source": [
    "modelo_SIR.best_error"
   ]
  },
  {
   "cell_type": "markdown",
   "metadata": {},
   "source": [
    "#### Likelihood profiles"
   ]
  },
  {
   "cell_type": "code",
   "execution_count": 15,
   "metadata": {
    "scrolled": true
   },
   "outputs": [
    {
     "data": {
      "application/vnd.jupyter.widget-view+json": {
       "model_id": "5f1c424d54a046f8929e7f32854481ba",
       "version_major": 2,
       "version_minor": 0
      },
      "text/plain": [
       "HBox(children=(FloatProgress(value=0.0, description='parameters', max=2.0, style=ProgressStyle(description_wid…"
      ]
     },
     "metadata": {},
     "output_type": "display_data"
    },
    {
     "data": {
      "application/vnd.jupyter.widget-view+json": {
       "model_id": "a21ef6bfb1cc4324b583d761e8463c54",
       "version_major": 2,
       "version_minor": 0
      },
      "text/plain": [
       "HBox(children=(FloatProgress(value=0.0, description='values within parameters', max=10.0, style=ProgressStyle(…"
      ]
     },
     "metadata": {},
     "output_type": "display_data"
    },
    {
     "name": "stdout",
     "output_type": "stream",
     "text": [
      "\n"
     ]
    },
    {
     "data": {
      "application/vnd.jupyter.widget-view+json": {
       "model_id": "3f875c8c371a4edfafb106e8c2f13bdd",
       "version_major": 2,
       "version_minor": 0
      },
      "text/plain": [
       "HBox(children=(FloatProgress(value=0.0, description='values within parameters', max=10.0, style=ProgressStyle(…"
      ]
     },
     "metadata": {},
     "output_type": "display_data"
    },
    {
     "name": "stdout",
     "output_type": "stream",
     "text": [
      "\n",
      "\n",
      "Wall time: 41.2 s\n"
     ]
    }
   ],
   "source": [
    "%%time\n",
    "modelo_SIR.likelihood_profiles(npoints=10)"
   ]
  },
  {
   "cell_type": "code",
   "execution_count": 16,
   "metadata": {
    "scrolled": true
   },
   "outputs": [
    {
     "data": {
      "text/html": [
       "<div>\n",
       "<style scoped>\n",
       "    .dataframe tbody tr th:only-of-type {\n",
       "        vertical-align: middle;\n",
       "    }\n",
       "\n",
       "    .dataframe tbody tr th {\n",
       "        vertical-align: top;\n",
       "    }\n",
       "\n",
       "    .dataframe thead th {\n",
       "        text-align: right;\n",
       "    }\n",
       "</style>\n",
       "<table border=\"1\" class=\"dataframe\">\n",
       "  <thead>\n",
       "    <tr style=\"text-align: right;\">\n",
       "      <th></th>\n",
       "      <th>parameter</th>\n",
       "      <th>value</th>\n",
       "      <th>error</th>\n",
       "    </tr>\n",
       "  </thead>\n",
       "  <tbody>\n",
       "    <tr>\n",
       "      <th>0</th>\n",
       "      <td>$\\beta$</td>\n",
       "      <td>0.000000</td>\n",
       "      <td>9.927122e+11</td>\n",
       "    </tr>\n",
       "    <tr>\n",
       "      <th>1</th>\n",
       "      <td>$\\beta$</td>\n",
       "      <td>1.111111</td>\n",
       "      <td>9.926850e+11</td>\n",
       "    </tr>\n",
       "    <tr>\n",
       "      <th>2</th>\n",
       "      <td>$\\beta$</td>\n",
       "      <td>2.222222</td>\n",
       "      <td>6.011692e+11</td>\n",
       "    </tr>\n",
       "    <tr>\n",
       "      <th>3</th>\n",
       "      <td>$\\beta$</td>\n",
       "      <td>3.333333</td>\n",
       "      <td>5.742651e+11</td>\n",
       "    </tr>\n",
       "    <tr>\n",
       "      <th>4</th>\n",
       "      <td>$\\beta$</td>\n",
       "      <td>4.444444</td>\n",
       "      <td>9.686392e+11</td>\n",
       "    </tr>\n",
       "    <tr>\n",
       "      <th>5</th>\n",
       "      <td>$\\beta$</td>\n",
       "      <td>5.555556</td>\n",
       "      <td>5.373398e+11</td>\n",
       "    </tr>\n",
       "    <tr>\n",
       "      <th>6</th>\n",
       "      <td>$\\beta$</td>\n",
       "      <td>6.666667</td>\n",
       "      <td>5.280370e+11</td>\n",
       "    </tr>\n",
       "    <tr>\n",
       "      <th>7</th>\n",
       "      <td>$\\beta$</td>\n",
       "      <td>7.777778</td>\n",
       "      <td>5.234614e+11</td>\n",
       "    </tr>\n",
       "    <tr>\n",
       "      <th>8</th>\n",
       "      <td>$\\beta$</td>\n",
       "      <td>8.888889</td>\n",
       "      <td>5.224099e+11</td>\n",
       "    </tr>\n",
       "    <tr>\n",
       "      <th>9</th>\n",
       "      <td>$\\beta$</td>\n",
       "      <td>10.000000</td>\n",
       "      <td>5.239183e+11</td>\n",
       "    </tr>\n",
       "    <tr>\n",
       "      <th>10</th>\n",
       "      <td>$\\gamma$</td>\n",
       "      <td>0.000000</td>\n",
       "      <td>7.059264e+11</td>\n",
       "    </tr>\n",
       "    <tr>\n",
       "      <th>11</th>\n",
       "      <td>$\\gamma$</td>\n",
       "      <td>1.111111</td>\n",
       "      <td>6.294218e+11</td>\n",
       "    </tr>\n",
       "    <tr>\n",
       "      <th>12</th>\n",
       "      <td>$\\gamma$</td>\n",
       "      <td>2.222222</td>\n",
       "      <td>6.002301e+11</td>\n",
       "    </tr>\n",
       "    <tr>\n",
       "      <th>13</th>\n",
       "      <td>$\\gamma$</td>\n",
       "      <td>3.333333</td>\n",
       "      <td>5.734456e+11</td>\n",
       "    </tr>\n",
       "    <tr>\n",
       "      <th>14</th>\n",
       "      <td>$\\gamma$</td>\n",
       "      <td>4.444444</td>\n",
       "      <td>5.519601e+11</td>\n",
       "    </tr>\n",
       "    <tr>\n",
       "      <th>15</th>\n",
       "      <td>$\\gamma$</td>\n",
       "      <td>5.555556</td>\n",
       "      <td>5.369189e+11</td>\n",
       "    </tr>\n",
       "    <tr>\n",
       "      <th>16</th>\n",
       "      <td>$\\gamma$</td>\n",
       "      <td>6.666667</td>\n",
       "      <td>5.277896e+11</td>\n",
       "    </tr>\n",
       "    <tr>\n",
       "      <th>17</th>\n",
       "      <td>$\\gamma$</td>\n",
       "      <td>7.777778</td>\n",
       "      <td>5.233615e+11</td>\n",
       "    </tr>\n",
       "    <tr>\n",
       "      <th>18</th>\n",
       "      <td>$\\gamma$</td>\n",
       "      <td>8.888889</td>\n",
       "      <td>9.926749e+11</td>\n",
       "    </tr>\n",
       "    <tr>\n",
       "      <th>19</th>\n",
       "      <td>$\\gamma$</td>\n",
       "      <td>10.000000</td>\n",
       "      <td>9.926475e+11</td>\n",
       "    </tr>\n",
       "  </tbody>\n",
       "</table>\n",
       "</div>"
      ],
      "text/plain": [
       "   parameter      value         error\n",
       "0    $\\beta$   0.000000  9.927122e+11\n",
       "1    $\\beta$   1.111111  9.926850e+11\n",
       "2    $\\beta$   2.222222  6.011692e+11\n",
       "3    $\\beta$   3.333333  5.742651e+11\n",
       "4    $\\beta$   4.444444  9.686392e+11\n",
       "5    $\\beta$   5.555556  5.373398e+11\n",
       "6    $\\beta$   6.666667  5.280370e+11\n",
       "7    $\\beta$   7.777778  5.234614e+11\n",
       "8    $\\beta$   8.888889  5.224099e+11\n",
       "9    $\\beta$  10.000000  5.239183e+11\n",
       "10  $\\gamma$   0.000000  7.059264e+11\n",
       "11  $\\gamma$   1.111111  6.294218e+11\n",
       "12  $\\gamma$   2.222222  6.002301e+11\n",
       "13  $\\gamma$   3.333333  5.734456e+11\n",
       "14  $\\gamma$   4.444444  5.519601e+11\n",
       "15  $\\gamma$   5.555556  5.369189e+11\n",
       "16  $\\gamma$   6.666667  5.277896e+11\n",
       "17  $\\gamma$   7.777778  5.233615e+11\n",
       "18  $\\gamma$   8.888889  9.926749e+11\n",
       "19  $\\gamma$  10.000000  9.926475e+11"
      ]
     },
     "execution_count": 16,
     "metadata": {},
     "output_type": "execute_result"
    }
   ],
   "source": [
    "modelo_SIR.result_profiles"
   ]
  },
  {
   "cell_type": "code",
   "execution_count": 17,
   "metadata": {
    "scrolled": true
   },
   "outputs": [
    {
     "name": "stderr",
     "output_type": "stream",
     "text": [
      "*c* argument looks like a single numeric RGB or RGBA sequence, which should be avoided as value-mapping will have precedence in case its length matches with *x* & *y*.  Please use the *color* keyword-argument or provide a 2-D array with a single row if you intend to specify the same RGB or RGBA value for all points.\n"
     ]
    },
    {
     "data": {
      "image/png": "[encoded data removed]",
      "text/plain": [
       "<Figure size 432x288 with 1 Axes>"
      ]
     },
     "metadata": {
      "needs_background": "light"
     },
     "output_type": "display_data"
    },
    {
     "name": "stderr",
     "output_type": "stream",
     "text": [
      "*c* argument looks like a single numeric RGB or RGBA sequence, which should be avoided as value-mapping will have precedence in case its length matches with *x* & *y*.  Please use the *color* keyword-argument or provide a 2-D array with a single row if you intend to specify the same RGB or RGBA value for all points.\n"
     ]
    },
    {
     "data": {
      "image/png": "[encoded data removed]",
      "text/plain": [
       "<Figure size 432x288 with 1 Axes>"
      ]
     },
     "metadata": {
      "needs_background": "light"
     },
     "output_type": "display_data"
    }
   ],
   "source": [
    "modelo_SIR.plot_profiles()"
   ]
  },
  {
   "cell_type": "markdown",
   "metadata": {},
   "source": [
    "## Defininimos el modelo SIRD\n",
    "\n",
    "$$\\begin{align}\n",
    "\\frac{\\mathrm{d} S}{\\mathrm{d} t} &= -\\beta\\, \\frac{SI}{N}\\\\\n",
    "\\frac{\\mathrm{d} I}{\\mathrm{d} t} &= \\beta\\, \\frac{SI}{N} - \\gamma I - \\mu I\\\\\n",
    "\\frac{\\mathrm{d} R}{\\mathrm{d} t} &= \\gamma\\,I\\\\\n",
    "\\frac{\\mathrm{d} D}{\\mathrm{d} t} &= \\mu\\,I\n",
    "\\end{align}$$"
   ]
  },
  {
   "cell_type": "markdown",
   "metadata": {},
   "source": [
    "$$\n",
    "\\begin{align}\n",
    "\\beta &= \\text{Tasa de contacto } \\times \\text{Probabilidad de Transmisión}\\\\\n",
    "\\gamma &= \\text{Tasa de Recuperación}\\\\\n",
    "\\mu &= \\text{Tasa de Mortalidad}\n",
    "\\end{align}\n",
    "$$"
   ]
  },
  {
   "cell_type": "markdown",
   "metadata": {},
   "source": [
    "En particular, nosotros vamos a considerar:\n",
    "\n",
    "- $S :=$ Población suceptible.\n",
    "\n",
    "- $I :=$ Población Infectada.\n",
    "\n",
    "- $R :=$ Población Recuperada\n",
    "\n",
    "- $D :=$ Población Muerta"
   ]
  },
  {
   "cell_type": "code",
   "execution_count": 18,
   "metadata": {},
   "outputs": [
    {
     "data": {
      "text/html": [
       "<div>\n",
       "<style scoped>\n",
       "    .dataframe tbody tr th:only-of-type {\n",
       "        vertical-align: middle;\n",
       "    }\n",
       "\n",
       "    .dataframe tbody tr th {\n",
       "        vertical-align: top;\n",
       "    }\n",
       "\n",
       "    .dataframe thead th {\n",
       "        text-align: right;\n",
       "    }\n",
       "</style>\n",
       "<table border=\"1\" class=\"dataframe\">\n",
       "  <thead>\n",
       "    <tr style=\"text-align: right;\">\n",
       "      <th></th>\n",
       "      <th>t</th>\n",
       "      <th>S</th>\n",
       "      <th>I</th>\n",
       "      <th>R</th>\n",
       "      <th>D</th>\n",
       "    </tr>\n",
       "  </thead>\n",
       "  <tbody>\n",
       "    <tr>\n",
       "      <th>count</th>\n",
       "      <td>321.000000</td>\n",
       "      <td>3.210000e+02</td>\n",
       "      <td>321.000000</td>\n",
       "      <td>321.000000</td>\n",
       "      <td>321.000000</td>\n",
       "    </tr>\n",
       "    <tr>\n",
       "      <th>mean</th>\n",
       "      <td>161.000000</td>\n",
       "      <td>1.432630e+08</td>\n",
       "      <td>7685.236760</td>\n",
       "      <td>6041.722741</td>\n",
       "      <td>134.336449</td>\n",
       "    </tr>\n",
       "    <tr>\n",
       "      <th>std</th>\n",
       "      <td>92.808944</td>\n",
       "      <td>1.205129e+06</td>\n",
       "      <td>7110.665979</td>\n",
       "      <td>6401.488399</td>\n",
       "      <td>130.640868</td>\n",
       "    </tr>\n",
       "    <tr>\n",
       "      <th>min</th>\n",
       "      <td>1.000000</td>\n",
       "      <td>1.400505e+08</td>\n",
       "      <td>0.000000</td>\n",
       "      <td>0.000000</td>\n",
       "      <td>0.000000</td>\n",
       "    </tr>\n",
       "    <tr>\n",
       "      <th>25%</th>\n",
       "      <td>81.000000</td>\n",
       "      <td>1.424955e+08</td>\n",
       "      <td>1786.000000</td>\n",
       "      <td>155.000000</td>\n",
       "      <td>18.000000</td>\n",
       "    </tr>\n",
       "    <tr>\n",
       "      <th>50%</th>\n",
       "      <td>161.000000</td>\n",
       "      <td>1.434318e+08</td>\n",
       "      <td>6096.000000</td>\n",
       "      <td>5352.000000</td>\n",
       "      <td>114.000000</td>\n",
       "    </tr>\n",
       "    <tr>\n",
       "      <th>75%</th>\n",
       "      <td>241.000000</td>\n",
       "      <td>1.444853e+08</td>\n",
       "      <td>9623.000000</td>\n",
       "      <td>8499.000000</td>\n",
       "      <td>175.000000</td>\n",
       "    </tr>\n",
       "    <tr>\n",
       "      <th>max</th>\n",
       "      <td>321.000000</td>\n",
       "      <td>1.445000e+08</td>\n",
       "      <td>28701.000000</td>\n",
       "      <td>29084.000000</td>\n",
       "      <td>580.000000</td>\n",
       "    </tr>\n",
       "  </tbody>\n",
       "</table>\n",
       "</div>"
      ],
      "text/plain": [
       "                t             S             I             R           D\n",
       "count  321.000000  3.210000e+02    321.000000    321.000000  321.000000\n",
       "mean   161.000000  1.432630e+08   7685.236760   6041.722741  134.336449\n",
       "std     92.808944  1.205129e+06   7110.665979   6401.488399  130.640868\n",
       "min      1.000000  1.400505e+08      0.000000      0.000000    0.000000\n",
       "25%     81.000000  1.424955e+08   1786.000000    155.000000   18.000000\n",
       "50%    161.000000  1.434318e+08   6096.000000   5352.000000  114.000000\n",
       "75%    241.000000  1.444853e+08   9623.000000   8499.000000  175.000000\n",
       "max    321.000000  1.445000e+08  28701.000000  29084.000000  580.000000"
      ]
     },
     "execution_count": 18,
     "metadata": {},
     "output_type": "execute_result"
    }
   ],
   "source": [
    "# En realidad nosotros vamos a ocupar lo siguiente\n",
    "datos = pd.DataFrame({\n",
    "            # Tiempo\n",
    "            't': data.Tiempo,\n",
    "            # Suceptibles\n",
    "            'S': N - np.cumsum(data.Infectados) - (np.cumsum(data.Recuperados) + np.cumsum(data.Muertos)),\n",
    "            # Infectados\n",
    "            'I': data.Infectados,\n",
    "            # Recuperados\n",
    "            'R': data.Recuperados,\n",
    "            # Muertos\n",
    "            'D': data.Muertos\n",
    "})\n",
    "datos.describe()"
   ]
  },
  {
   "cell_type": "code",
   "execution_count": 19,
   "metadata": {},
   "outputs": [
    {
     "data": {
      "text/plain": [
       "<matplotlib.legend.Legend at 0x299c34ff3d0>"
      ]
     },
     "execution_count": 19,
     "metadata": {},
     "output_type": "execute_result"
    },
    {
     "data": {
      "image/png": "[encoded data removed]",
      "text/plain": [
       "<Figure size 864x576 with 1 Axes>"
      ]
     },
     "metadata": {
      "needs_background": "light"
     },
     "output_type": "display_data"
    }
   ],
   "source": [
    "plt.figure(figsize=(12, 8))\n",
    "plt.title(\"Gráfico de datos\")\n",
    "plt.plot(datos.t, datos.S, '-o', label=\"Suceptibles\")\n",
    "plt.ylabel(\"Total de Individuos\")\n",
    "plt.xlabel(\"Días reportados\")\n",
    "plt.legend()"
   ]
  },
  {
   "cell_type": "code",
   "execution_count": 20,
   "metadata": {},
   "outputs": [
    {
     "data": {
      "text/plain": [
       "<matplotlib.legend.Legend at 0x299c3544d30>"
      ]
     },
     "execution_count": 20,
     "metadata": {},
     "output_type": "execute_result"
    },
    {
     "data": {
      "image/png": "[encoded data removed]",
      "text/plain": [
       "<Figure size 864x576 with 1 Axes>"
      ]
     },
     "metadata": {
      "needs_background": "light"
     },
     "output_type": "display_data"
    }
   ],
   "source": [
    "plt.figure(figsize=(12, 8))\n",
    "plt.title(\"Gráfico de datos\")\n",
    "plt.plot(datos.t, datos.I, '-o', label=\"Infectados\")\n",
    "plt.plot(datos.t, datos.R, '-o', label=\"Recuperados\")\n",
    "plt.plot(datos.t, datos.D, '-o', label=\"Muertos\")\n",
    "plt.yscale('log')\n",
    "plt.ylabel(\"Total de Individuos\")\n",
    "plt.xlabel(\"Días reportados\")\n",
    "plt.legend()"
   ]
  },
  {
   "cell_type": "markdown",
   "metadata": {},
   "source": [
    "Definimos el sistema de ecuaciones diferenciales a resolver"
   ]
  },
  {
   "cell_type": "code",
   "execution_count": 21,
   "metadata": {},
   "outputs": [],
   "source": [
    "def sistema_SIR(z, t, beta, gamma,mu):\n",
    "    \n",
    "    S, I, R, D = z\n",
    "    \n",
    "    # dS/dt\n",
    "    dSdt = - beta * S * I / N \n",
    "    # dI/dt\n",
    "    dIdt = beta * S * I / N - gamma * I - mu * D\n",
    "    # dR/dt\n",
    "    dRdt = gamma * I\n",
    "    # dD/dt\n",
    "    dDdt = mu * D\n",
    "    \n",
    "    return [dSdt,dIdt,dRdt,dDdt]"
   ]
  },
  {
   "cell_type": "markdown",
   "metadata": {},
   "source": [
    "Vamos a definir los valores iniciales de nuestros datos. Para esto, consideramos un escenario donde al principio teníamos un infectado, ningún recuperado, ningún muerto y una población suceptible de $N-1$."
   ]
  },
  {
   "cell_type": "code",
   "execution_count": 22,
   "metadata": {},
   "outputs": [],
   "source": [
    "# Suceptible inicial\n",
    "def S0():\n",
    "    return N-1\n",
    "# Infectado inicial\n",
    "def I0():\n",
    "    return 1\n",
    "# Recuperado inicial\n",
    "def R0():\n",
    "    return 0\n",
    "# Muerto inicial\n",
    "def D0():\n",
    "    return 0"
   ]
  },
  {
   "cell_type": "markdown",
   "metadata": {},
   "source": [
    "Con base en todo lo anterior, ejectuamos nuestro modelo"
   ]
  },
  {
   "cell_type": "code",
   "execution_count": 24,
   "metadata": {},
   "outputs": [],
   "source": [
    "modelo_SIRD = pde.PDEmodel(datos, sistema_SIR, [S0,I0,R0,D0], bounds=[(0, 10), (0,10), (0,10)], \n",
    "                        param_names=[r'$\\beta$', r'$\\gamma$', r'$\\mu$'], nvars=4, ndims=0, nreplicates=1, obsidx=None, outfunc=None)"
   ]
  },
  {
   "cell_type": "code",
   "execution_count": 25,
   "metadata": {
    "scrolled": true
   },
   "outputs": [
    {
     "data": {
      "text/plain": [
       "array([144499999,         1,         0,         0])"
      ]
     },
     "execution_count": 25,
     "metadata": {},
     "output_type": "execute_result"
    }
   ],
   "source": [
    "# Mostramos la condición Inicial\n",
    "modelo_SIRD.initial_condition"
   ]
  },
  {
   "cell_type": "markdown",
   "metadata": {},
   "source": [
    "##### Encontrando los mejores parámetros"
   ]
  },
  {
   "cell_type": "code",
   "execution_count": 26,
   "metadata": {
    "scrolled": true
   },
   "outputs": [
    {
     "name": "stdout",
     "output_type": "stream",
     "text": [
      "    $\\beta$  $\\gamma$    $\\mu$\n",
      "0  8.782035  8.736931  2.89359\n",
      "Wall time: 7.25 s\n"
     ]
    }
   ],
   "source": [
    "%%time\n",
    "modelo_SIRD.fit()"
   ]
  },
  {
   "cell_type": "code",
   "execution_count": 27,
   "metadata": {},
   "outputs": [
    {
     "data": {
      "text/html": [
       "<div>\n",
       "<style scoped>\n",
       "    .dataframe tbody tr th:only-of-type {\n",
       "        vertical-align: middle;\n",
       "    }\n",
       "\n",
       "    .dataframe tbody tr th {\n",
       "        vertical-align: top;\n",
       "    }\n",
       "\n",
       "    .dataframe thead th {\n",
       "        text-align: right;\n",
       "    }\n",
       "</style>\n",
       "<table border=\"1\" class=\"dataframe\">\n",
       "  <thead>\n",
       "    <tr style=\"text-align: right;\">\n",
       "      <th></th>\n",
       "      <th>$\\beta$</th>\n",
       "      <th>$\\gamma$</th>\n",
       "      <th>$\\mu$</th>\n",
       "    </tr>\n",
       "  </thead>\n",
       "  <tbody>\n",
       "    <tr>\n",
       "      <th>0</th>\n",
       "      <td>8.782035</td>\n",
       "      <td>8.736931</td>\n",
       "      <td>2.89359</td>\n",
       "    </tr>\n",
       "  </tbody>\n",
       "</table>\n",
       "</div>"
      ],
      "text/plain": [
       "    $\\beta$  $\\gamma$    $\\mu$\n",
       "0  8.782035  8.736931  2.89359"
      ]
     },
     "execution_count": 27,
     "metadata": {},
     "output_type": "execute_result"
    }
   ],
   "source": [
    "modelo_SIRD.best_params"
   ]
  },
  {
   "cell_type": "code",
   "execution_count": 28,
   "metadata": {},
   "outputs": [
    {
     "data": {
      "text/plain": [
       "391855396048.53125"
      ]
     },
     "execution_count": 28,
     "metadata": {},
     "output_type": "execute_result"
    }
   ],
   "source": [
    "modelo_SIRD.best_error"
   ]
  },
  {
   "cell_type": "markdown",
   "metadata": {},
   "source": [
    "#### Likelihood profiles"
   ]
  },
  {
   "cell_type": "code",
   "execution_count": 29,
   "metadata": {
    "scrolled": true
   },
   "outputs": [
    {
     "data": {
      "application/vnd.jupyter.widget-view+json": {
       "model_id": "f5e845eeec434f018f5206a3b87f2192",
       "version_major": 2,
       "version_minor": 0
      },
      "text/plain": [
       "HBox(children=(FloatProgress(value=0.0, description='parameters', max=3.0, style=ProgressStyle(description_wid…"
      ]
     },
     "metadata": {},
     "output_type": "display_data"
    },
    {
     "data": {
      "application/vnd.jupyter.widget-view+json": {
       "model_id": "c54d872a628f4cd599535f7361b8d92e",
       "version_major": 2,
       "version_minor": 0
      },
      "text/plain": [
       "HBox(children=(FloatProgress(value=0.0, description='values within parameters', max=10.0, style=ProgressStyle(…"
      ]
     },
     "metadata": {},
     "output_type": "display_data"
    },
    {
     "name": "stdout",
     "output_type": "stream",
     "text": [
      "\n"
     ]
    },
    {
     "data": {
      "application/vnd.jupyter.widget-view+json": {
       "model_id": "10b082dc98bc4f21a1fb0278ffeaba08",
       "version_major": 2,
       "version_minor": 0
      },
      "text/plain": [
       "HBox(children=(FloatProgress(value=0.0, description='values within parameters', max=10.0, style=ProgressStyle(…"
      ]
     },
     "metadata": {},
     "output_type": "display_data"
    },
    {
     "name": "stdout",
     "output_type": "stream",
     "text": [
      "\n"
     ]
    },
    {
     "data": {
      "application/vnd.jupyter.widget-view+json": {
       "model_id": "62f7f7c80cbf429e899370e3b2918514",
       "version_major": 2,
       "version_minor": 0
      },
      "text/plain": [
       "HBox(children=(FloatProgress(value=0.0, description='values within parameters', max=10.0, style=ProgressStyle(…"
      ]
     },
     "metadata": {},
     "output_type": "display_data"
    },
    {
     "name": "stdout",
     "output_type": "stream",
     "text": [
      "\n",
      "\n",
      "Wall time: 2min 12s\n"
     ]
    }
   ],
   "source": [
    "%%time\n",
    "modelo_SIRD.likelihood_profiles(npoints=10)"
   ]
  },
  {
   "cell_type": "code",
   "execution_count": 30,
   "metadata": {
    "scrolled": true
   },
   "outputs": [
    {
     "data": {
      "text/html": [
       "<div>\n",
       "<style scoped>\n",
       "    .dataframe tbody tr th:only-of-type {\n",
       "        vertical-align: middle;\n",
       "    }\n",
       "\n",
       "    .dataframe tbody tr th {\n",
       "        vertical-align: top;\n",
       "    }\n",
       "\n",
       "    .dataframe thead th {\n",
       "        text-align: right;\n",
       "    }\n",
       "</style>\n",
       "<table border=\"1\" class=\"dataframe\">\n",
       "  <thead>\n",
       "    <tr style=\"text-align: right;\">\n",
       "      <th></th>\n",
       "      <th>parameter</th>\n",
       "      <th>value</th>\n",
       "      <th>error</th>\n",
       "    </tr>\n",
       "  </thead>\n",
       "  <tbody>\n",
       "    <tr>\n",
       "      <th>0</th>\n",
       "      <td>$\\beta$</td>\n",
       "      <td>0.000000</td>\n",
       "      <td>7.445334e+11</td>\n",
       "    </tr>\n",
       "    <tr>\n",
       "      <th>1</th>\n",
       "      <td>$\\beta$</td>\n",
       "      <td>1.111111</td>\n",
       "      <td>7.445068e+11</td>\n",
       "    </tr>\n",
       "    <tr>\n",
       "      <th>2</th>\n",
       "      <td>$\\beta$</td>\n",
       "      <td>2.222222</td>\n",
       "      <td>4.509408e+11</td>\n",
       "    </tr>\n",
       "    <tr>\n",
       "      <th>3</th>\n",
       "      <td>$\\beta$</td>\n",
       "      <td>3.333333</td>\n",
       "      <td>4.307640e+11</td>\n",
       "    </tr>\n",
       "    <tr>\n",
       "      <th>4</th>\n",
       "      <td>$\\beta$</td>\n",
       "      <td>4.444444</td>\n",
       "      <td>4.145113e+11</td>\n",
       "    </tr>\n",
       "    <tr>\n",
       "      <th>5</th>\n",
       "      <td>$\\beta$</td>\n",
       "      <td>5.555556</td>\n",
       "      <td>4.030746e+11</td>\n",
       "    </tr>\n",
       "    <tr>\n",
       "      <th>6</th>\n",
       "      <td>$\\beta$</td>\n",
       "      <td>6.666667</td>\n",
       "      <td>3.960969e+11</td>\n",
       "    </tr>\n",
       "    <tr>\n",
       "      <th>7</th>\n",
       "      <td>$\\beta$</td>\n",
       "      <td>7.777778</td>\n",
       "      <td>3.926633e+11</td>\n",
       "    </tr>\n",
       "    <tr>\n",
       "      <th>8</th>\n",
       "      <td>$\\beta$</td>\n",
       "      <td>8.888889</td>\n",
       "      <td>3.918743e+11</td>\n",
       "    </tr>\n",
       "    <tr>\n",
       "      <th>9</th>\n",
       "      <td>$\\beta$</td>\n",
       "      <td>10.000000</td>\n",
       "      <td>3.930081e+11</td>\n",
       "    </tr>\n",
       "    <tr>\n",
       "      <th>10</th>\n",
       "      <td>$\\gamma$</td>\n",
       "      <td>0.000000</td>\n",
       "      <td>5.294439e+11</td>\n",
       "    </tr>\n",
       "    <tr>\n",
       "      <th>11</th>\n",
       "      <td>$\\gamma$</td>\n",
       "      <td>1.111111</td>\n",
       "      <td>4.721259e+11</td>\n",
       "    </tr>\n",
       "    <tr>\n",
       "      <th>12</th>\n",
       "      <td>$\\gamma$</td>\n",
       "      <td>2.222222</td>\n",
       "      <td>4.502372e+11</td>\n",
       "    </tr>\n",
       "    <tr>\n",
       "      <th>13</th>\n",
       "      <td>$\\gamma$</td>\n",
       "      <td>3.333333</td>\n",
       "      <td>4.301526e+11</td>\n",
       "    </tr>\n",
       "    <tr>\n",
       "      <th>14</th>\n",
       "      <td>$\\gamma$</td>\n",
       "      <td>4.444444</td>\n",
       "      <td>4.140388e+11</td>\n",
       "    </tr>\n",
       "    <tr>\n",
       "      <th>15</th>\n",
       "      <td>$\\gamma$</td>\n",
       "      <td>5.555556</td>\n",
       "      <td>4.027539e+11</td>\n",
       "    </tr>\n",
       "    <tr>\n",
       "      <th>16</th>\n",
       "      <td>$\\gamma$</td>\n",
       "      <td>6.666667</td>\n",
       "      <td>3.959112e+11</td>\n",
       "    </tr>\n",
       "    <tr>\n",
       "      <th>17</th>\n",
       "      <td>$\\gamma$</td>\n",
       "      <td>7.777778</td>\n",
       "      <td>3.925884e+11</td>\n",
       "    </tr>\n",
       "    <tr>\n",
       "      <th>18</th>\n",
       "      <td>$\\gamma$</td>\n",
       "      <td>8.888889</td>\n",
       "      <td>3.918857e+11</td>\n",
       "    </tr>\n",
       "    <tr>\n",
       "      <th>19</th>\n",
       "      <td>$\\gamma$</td>\n",
       "      <td>10.000000</td>\n",
       "      <td>7.444674e+11</td>\n",
       "    </tr>\n",
       "    <tr>\n",
       "      <th>20</th>\n",
       "      <td>$\\mu$</td>\n",
       "      <td>0.000000</td>\n",
       "      <td>3.918620e+11</td>\n",
       "    </tr>\n",
       "    <tr>\n",
       "      <th>21</th>\n",
       "      <td>$\\mu$</td>\n",
       "      <td>1.111111</td>\n",
       "      <td>7.444624e+11</td>\n",
       "    </tr>\n",
       "    <tr>\n",
       "      <th>22</th>\n",
       "      <td>$\\mu$</td>\n",
       "      <td>2.222222</td>\n",
       "      <td>3.918863e+11</td>\n",
       "    </tr>\n",
       "    <tr>\n",
       "      <th>23</th>\n",
       "      <td>$\\mu$</td>\n",
       "      <td>3.333333</td>\n",
       "      <td>3.918594e+11</td>\n",
       "    </tr>\n",
       "    <tr>\n",
       "      <th>24</th>\n",
       "      <td>$\\mu$</td>\n",
       "      <td>4.444444</td>\n",
       "      <td>3.918569e+11</td>\n",
       "    </tr>\n",
       "    <tr>\n",
       "      <th>25</th>\n",
       "      <td>$\\mu$</td>\n",
       "      <td>5.555556</td>\n",
       "      <td>3.918653e+11</td>\n",
       "    </tr>\n",
       "    <tr>\n",
       "      <th>26</th>\n",
       "      <td>$\\mu$</td>\n",
       "      <td>6.666667</td>\n",
       "      <td>3.918603e+11</td>\n",
       "    </tr>\n",
       "    <tr>\n",
       "      <th>27</th>\n",
       "      <td>$\\mu$</td>\n",
       "      <td>7.777778</td>\n",
       "      <td>3.918626e+11</td>\n",
       "    </tr>\n",
       "    <tr>\n",
       "      <th>28</th>\n",
       "      <td>$\\mu$</td>\n",
       "      <td>8.888889</td>\n",
       "      <td>3.918612e+11</td>\n",
       "    </tr>\n",
       "    <tr>\n",
       "      <th>29</th>\n",
       "      <td>$\\mu$</td>\n",
       "      <td>10.000000</td>\n",
       "      <td>3.918565e+11</td>\n",
       "    </tr>\n",
       "  </tbody>\n",
       "</table>\n",
       "</div>"
      ],
      "text/plain": [
       "   parameter      value         error\n",
       "0    $\\beta$   0.000000  7.445334e+11\n",
       "1    $\\beta$   1.111111  7.445068e+11\n",
       "2    $\\beta$   2.222222  4.509408e+11\n",
       "3    $\\beta$   3.333333  4.307640e+11\n",
       "4    $\\beta$   4.444444  4.145113e+11\n",
       "5    $\\beta$   5.555556  4.030746e+11\n",
       "6    $\\beta$   6.666667  3.960969e+11\n",
       "7    $\\beta$   7.777778  3.926633e+11\n",
       "8    $\\beta$   8.888889  3.918743e+11\n",
       "9    $\\beta$  10.000000  3.930081e+11\n",
       "10  $\\gamma$   0.000000  5.294439e+11\n",
       "11  $\\gamma$   1.111111  4.721259e+11\n",
       "12  $\\gamma$   2.222222  4.502372e+11\n",
       "13  $\\gamma$   3.333333  4.301526e+11\n",
       "14  $\\gamma$   4.444444  4.140388e+11\n",
       "15  $\\gamma$   5.555556  4.027539e+11\n",
       "16  $\\gamma$   6.666667  3.959112e+11\n",
       "17  $\\gamma$   7.777778  3.925884e+11\n",
       "18  $\\gamma$   8.888889  3.918857e+11\n",
       "19  $\\gamma$  10.000000  7.444674e+11\n",
       "20     $\\mu$   0.000000  3.918620e+11\n",
       "21     $\\mu$   1.111111  7.444624e+11\n",
       "22     $\\mu$   2.222222  3.918863e+11\n",
       "23     $\\mu$   3.333333  3.918594e+11\n",
       "24     $\\mu$   4.444444  3.918569e+11\n",
       "25     $\\mu$   5.555556  3.918653e+11\n",
       "26     $\\mu$   6.666667  3.918603e+11\n",
       "27     $\\mu$   7.777778  3.918626e+11\n",
       "28     $\\mu$   8.888889  3.918612e+11\n",
       "29     $\\mu$  10.000000  3.918565e+11"
      ]
     },
     "execution_count": 30,
     "metadata": {},
     "output_type": "execute_result"
    }
   ],
   "source": [
    "modelo_SIRD.result_profiles"
   ]
  },
  {
   "cell_type": "code",
   "execution_count": 31,
   "metadata": {
    "scrolled": true
   },
   "outputs": [
    {
     "name": "stderr",
     "output_type": "stream",
     "text": [
      "*c* argument looks like a single numeric RGB or RGBA sequence, which should be avoided as value-mapping will have precedence in case its length matches with *x* & *y*.  Please use the *color* keyword-argument or provide a 2-D array with a single row if you intend to specify the same RGB or RGBA value for all points.\n"
     ]
    },
    {
     "data": {
      "image/png": "[encoded data removed]",
      "text/plain": [
       "<Figure size 432x288 with 1 Axes>"
      ]
     },
     "metadata": {
      "needs_background": "light"
     },
     "output_type": "display_data"
    },
    {
     "name": "stderr",
     "output_type": "stream",
     "text": [
      "*c* argument looks like a single numeric RGB or RGBA sequence, which should be avoided as value-mapping will have precedence in case its length matches with *x* & *y*.  Please use the *color* keyword-argument or provide a 2-D array with a single row if you intend to specify the same RGB or RGBA value for all points.\n"
     ]
    },
    {
     "data": {
      "image/png": "[encoded data removed]",
      "text/plain": [
       "<Figure size 432x288 with 1 Axes>"
      ]
     },
     "metadata": {
      "needs_background": "light"
     },
     "output_type": "display_data"
    },
    {
     "name": "stderr",
     "output_type": "stream",
     "text": [
      "*c* argument looks like a single numeric RGB or RGBA sequence, which should be avoided as value-mapping will have precedence in case its length matches with *x* & *y*.  Please use the *color* keyword-argument or provide a 2-D array with a single row if you intend to specify the same RGB or RGBA value for all points.\n"
     ]
    },
    {
     "data": {
      "image/png": "[encoded data removed]",
      "text/plain": [
       "<Figure size 432x288 with 1 Axes>"
      ]
     },
     "metadata": {
      "needs_background": "light"
     },
     "output_type": "display_data"
    }
   ],
   "source": [
    "modelo_SIRD.plot_profiles()"
   ]
  },
  {
   "cell_type": "markdown",
   "metadata": {},
   "source": [
    "### Fuentes\n",
    "- https://data.humdata.org/dataset/novel-coronavirus-2019-ncov-cases?force_layout=desktop\n",
    "\n",
    "- https://www.google.com/search?q=poblacion+total+de+rusia&rlz=1C1CHBF_esMX925MX926&oq=poblacion+total+de+rusia&aqs=chrome..69i57j0j0i22i30l6.3610j0j7&sourceid=chrome&ie=UTF-8"
   ]
  }
 ],
 "metadata": {
  "kernelspec": {
   "display_name": "Python 3",
   "language": "python",
   "name": "python3"
  },
  "language_info": {
   "codemirror_mode": {
    "name": "ipython",
    "version": 3
   },
   "file_extension": ".py",
   "mimetype": "text/x-python",
   "name": "python",
   "nbconvert_exporter": "python",
   "pygments_lexer": "ipython3",
   "version": "3.8.3"
  }
 },
 "nbformat": 4,
 "nbformat_minor": 2
}
